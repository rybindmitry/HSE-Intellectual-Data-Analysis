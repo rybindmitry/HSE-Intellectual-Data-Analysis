{
 "cells": [
  {
   "cell_type": "code",
   "execution_count": 0,
   "metadata": {
    "colab": {},
    "colab_type": "code",
    "id": "Ozc_eCaMBKKf"
   },
   "outputs": [],
   "source": [
    "import numpy as np\n",
    "import pandas as pd\n",
    "import matplotlib.pyplot as plt\n",
    "from scipy.stats import chisquare\n",
    "from scipy.stats import normaltest\n",
    "from scipy.stats import ttest_ind\n",
    "from scipy.stats import mannwhitneyu\n",
    "from scipy.stats import kstest\n",
    "from math import exp"
   ]
  },
  {
   "cell_type": "markdown",
   "metadata": {
    "colab_type": "text",
    "id": "O7q6OsmGA03j"
   },
   "source": [
    "**Задание 1**\n",
    "\n",
    "Проанализировать набор данных и ответить на следующие вопросы:\n",
    "\n",
    "1) Какой % наблюдений выходит за 5 и 95 перцентиль?\n",
    "\n",
    "2) Какому закону распределения отвечают данные? На основе чего вы так решили?\n",
    "\n",
    "[Ссылка на данные](https://drive.google.com/file/d/1fc8BGSjDiwbZW6rcr3mMSwAjU2T_BpGW/view?usp=sharing)\n",
    "\n",
    "Описание данных:\n",
    "\n",
    "* metrics -- значение определенной метрики в сервисе для пользователя (например, количество кликов). \n",
    "\n",
    "\n",
    "*Вместе с ответом на задание приложить код*"
   ]
  },
  {
   "cell_type": "code",
   "execution_count": 2,
   "metadata": {
    "colab": {
     "base_uri": "https://localhost:8080/",
     "height": 315
    },
    "colab_type": "code",
    "id": "JcUYYmRHA03l",
    "outputId": "50c1e489-feb6-492c-e8f3-d84baf4e5b6c"
   },
   "outputs": [
    {
     "name": "stdout",
     "output_type": "stream",
     "text": [
      "Значения 5-го и 95-го перцентиля:  [ 1. 52.]\n",
      "Процент элементов строго меньше 5-го перцентиля: 0.0\n",
      "Процент элементов строго больше 95-го перцентиля: 4.987306046493438\n"
     ]
    },
    {
     "data": {
      "image/png": "[encoded data removed]",
      "text/plain": [
       "<Figure size 432x288 with 1 Axes>"
      ]
     },
     "metadata": {
      "tags": []
     },
     "output_type": "display_data"
    }
   ],
   "source": [
    "data1 = pd.read_csv(\"test_1_1.csv\", sep=';', index_col = 'Unnamed: 0')\n",
    "percentile_values = np.percentile(data1.metrics, [5, 95])\n",
    "print(\"Значения 5-го и 95-го перцентиля: \", percentile_values)\n",
    "\n",
    "count_below_5 = sum(elem < percentile_values[0] for elem in data1.metrics)\n",
    "count_above_95 = sum(elem > percentile_values[1] for elem in data1.metrics)\n",
    "print(\"Процент элементов строго меньше 5-го перцентиля:\", count_below_5 * 100.0 / len(data1.metrics))\n",
    "print(\"Процент элементов строго больше 95-го перцентиля:\", count_above_95 * 100.0 / len(data1.metrics))\n",
    "\n",
    "plt.hist(data1.metrics, bins=100, range=[0, 200])\n",
    "plt.show()"
   ]
  },
  {
   "cell_type": "markdown",
   "metadata": {
    "colab_type": "text",
    "id": "ANH2853N0wu1"
   },
   "source": [
    "1) При недискретном распределении процент наблюдений ниже 5-го перцентиля - ровно 5% по определению. Так же процент наблюдений выше 95-го перцентиля ровно 5%.\n",
    "\n",
    "В нашем дискретном случае 0% лежат ниже 5-го перцентиля и 4.89% лежат выше 95-го перцентиля.\n",
    "\n",
    "2)Значения начинаются с +1 и не соответствуют распределению Пуассона (я проверил с помощью хи-квадрат теста). Проверим с помощью хи-квадрат теста следующую гипотезу H_0: распределение выборки удовлетворяет отрицательному биномиальному распределению."
   ]
  },
  {
   "cell_type": "code",
   "execution_count": 3,
   "metadata": {
    "colab": {
     "base_uri": "https://localhost:8080/",
     "height": 67
    },
    "colab_type": "code",
    "id": "7fCJhDkDBUA6",
    "outputId": "818533a0-ff87-4f6d-896c-1e5011c23986"
   },
   "outputs": [
    {
     "name": "stdout",
     "output_type": "stream",
     "text": [
      "p =  0.9660447111386593\n",
      "r =  0.2938593030898325\n",
      "Power_divergenceResult(statistic=0.7722781312451856, pvalue=1.0)\n"
     ]
    }
   ],
   "source": [
    "def neg_bin(p, r, length):\n",
    "    probabilities = []\n",
    "    term = (1 - p)**r\n",
    "    for itr in range(length):\n",
    "        probabilities.append(term)\n",
    "        term *= (r + itr) / (itr + 1) * p \n",
    "    return probabilities\n",
    "\n",
    "truncated_data = data1[data1.metrics < 101].metrics\n",
    "mean = np.mean(truncated_data)\n",
    "var = np.var(truncated_data)\n",
    "\n",
    "p = 1 - mean / var\n",
    "r = mean * (1 - p) / p\n",
    "print(\"p = \", p)\n",
    "print(\"r = \", r)\n",
    "\n",
    "observed = np.bincount(truncated_data) / np.sum(truncated_data)\n",
    "observed = np.delete(observed, 0) # удалить данные о кол-ве посчитанных нулей \n",
    "expected = np.array(neg_bin(p, r, 100))\n",
    "\n",
    "print(chisquare(observed, expected))"
   ]
  },
  {
   "cell_type": "markdown",
   "metadata": {
    "colab_type": "text",
    "id": "EQtj3k23IRH3"
   },
   "source": [
    "Гипотеза не отвергнута со статистической значимостью почти 1.0. Критерий применим так как имеется большое число наблюдений в каждом классе ( >= 99)"
   ]
  },
  {
   "cell_type": "markdown",
   "metadata": {
    "colab_type": "text",
    "id": "hWhFiYxcA03r"
   },
   "source": [
    "**Задание 2**\n",
    "\n",
    "Определить, можно сравнить две представленные выборки t критерием Стьюдента? \n",
    "\n",
    "Если нельзя сравнивать t-критерием, то что будем использовать и почему?\n",
    "\n",
    "Ответ аргументировать и описать \n",
    "\n",
    "[Ссылка на данные](https://drive.google.com/file/d/1blvC6TEBWghhVMexjOdoGEjzhZZh3wSy/view?usp=sharing)\n",
    "\n",
    "Описание данных: \n",
    "\n",
    "* variant -- вариация в А/Б тесте (либо группа А -- например, сайт без изменений. Либо группа Б -- сайт с изменениями)\n",
    "* metrics -- значение определенной метрики в сервисе для пользователя (например, количество кликов). \n",
    "\n",
    "*Вместе с ответом на задание приложить код*"
   ]
  },
  {
   "cell_type": "code",
   "execution_count": 4,
   "metadata": {
    "colab": {
     "base_uri": "https://localhost:8080/",
     "height": 50
    },
    "colab_type": "code",
    "id": "Gmy5eHNtA03r",
    "outputId": "c7479e11-644b-4643-c86b-743ef547dfae"
   },
   "outputs": [
    {
     "name": "stdout",
     "output_type": "stream",
     "text": [
      "NormaltestResult(statistic=109098.627332008, pvalue=0.0)\n",
      "NormaltestResult(statistic=92329.93783182735, pvalue=0.0)\n"
     ]
    }
   ],
   "source": [
    "data2 = pd.read_csv(\"test_1_2.csv\", sep=';', index_col = 'Unnamed: 0')\n",
    "data_a = data2[data2.variant == 'A'].metrics\n",
    "data_b = data2[data2.variant == 'B'].metrics\n",
    "\n",
    "print(normaltest(data_a))\n",
    "print(normaltest(data_b))"
   ]
  },
  {
   "cell_type": "markdown",
   "metadata": {
    "colab_type": "text",
    "id": "h4LQ3YKGLwUp"
   },
   "source": [
    "Видим, что данные не проходят тест на нормальность, что исключает использование t-критерий Стьюдента.\n",
    "\n",
    "Посмотрим на гистограммы данных:"
   ]
  },
  {
   "cell_type": "code",
   "execution_count": 5,
   "metadata": {
    "colab": {
     "base_uri": "https://localhost:8080/",
     "height": 441
    },
    "colab_type": "code",
    "id": "Ptb1Ab4qj1Lf",
    "outputId": "982f2a11-7736-4262-e2a5-7024d03390a6"
   },
   "outputs": [
    {
     "data": {
      "image/png": "[encoded data removed]",
      "text/plain": [
       "<Figure size 1080x432 with 2 Axes>"
      ]
     },
     "metadata": {
      "tags": []
     },
     "output_type": "display_data"
    }
   ],
   "source": [
    "fig, axes = plt.subplots(nrows=1, ncols=2, figsize=(15, 6))\n",
    "\n",
    "axes[0].hist(data_a, bins = 20, range=[0, 200])\n",
    "axes[0].title.set_text('A data')\n",
    "\n",
    "axes[1].hist(data_b, bins = 20, range=[0, 200])\n",
    "axes[1].title.set_text('B data')\n",
    "\n",
    "fig.tight_layout()\n",
    "plt.show()"
   ]
  },
  {
   "cell_type": "markdown",
   "metadata": {
    "colab_type": "text",
    "id": "5U3ZAB9ANSNP"
   },
   "source": [
    "Они выглядят очень похожими. Попробуем простым хи-квадрат тестом проверить, подходит ли распределение первой под распределение второй."
   ]
  },
  {
   "cell_type": "code",
   "execution_count": 6,
   "metadata": {
    "colab": {
     "base_uri": "https://localhost:8080/",
     "height": 34
    },
    "colab_type": "code",
    "id": "aV94aG3MNRzp",
    "outputId": "a290d2df-77ea-4959-d752-f90e28e8dd7b"
   },
   "outputs": [
    {
     "data": {
      "text/plain": [
       "Power_divergenceResult(statistic=2.1965523510163383, pvalue=1.0)"
      ]
     },
     "execution_count": 6,
     "metadata": {
      "tags": []
     },
     "output_type": "execute_result"
    }
   ],
   "source": [
    "bincount_a = np.bincount(data_a)[1:100]\n",
    "bincount_b = np.bincount(data_b)[1:100]\n",
    "\n",
    "observed = (bincount_a / len(bincount_a))\n",
    "expected = (bincount_b / len(bincount_b))\n",
    "\n",
    "chisquare(observed, expected)"
   ]
  },
  {
   "cell_type": "markdown",
   "metadata": {
    "colab_type": "text",
    "id": "huwzb9r7QH_K"
   },
   "source": [
    "Хи-квадрат тест даёт стат значимость 1.0 чтобы не отвергнуть гипотезу о совпадении распределений A и B выборок. Число 100 здесь выбрано так, чтобы для каждого значения имелось > 30 наблюдений. Иначе в теории возможно, что слишком большое количество степеней свободы будет возвращать высокий pvalue даже для несовпадающих распределений. \n",
    "\n",
    "Посмотрим также на параметры p, r, так как видно, что распределения, как и в первой задаче,  соответсвуют отрицательному биномиальному."
   ]
  },
  {
   "cell_type": "code",
   "execution_count": 7,
   "metadata": {
    "colab": {
     "base_uri": "https://localhost:8080/",
     "height": 84
    },
    "colab_type": "code",
    "id": "wlzixJikSpc7",
    "outputId": "4e577a24-4d31-4ebd-9683-9632e0dfb87e"
   },
   "outputs": [
    {
     "name": "stdout",
     "output_type": "stream",
     "text": [
      "p =  0.966105365920878\n",
      "r =  0.2891981474650484\n",
      "mean =  8.243071202012468\n",
      "var =  243.19693739045047\n"
     ]
    }
   ],
   "source": [
    "truncated_data_a = data2[(data2.metrics < 101) & (data2.variant == 'A')].metrics\n",
    "mean = np.mean(truncated_data_a)\n",
    "var = np.var(truncated_data_a)\n",
    "\n",
    "p = 1 - mean / var\n",
    "r = mean * (1 - p) / p\n",
    "print(\"p = \", p)\n",
    "print(\"r = \", r)\n",
    "print(\"mean = \", mean)\n",
    "print(\"var = \", var)"
   ]
  },
  {
   "cell_type": "code",
   "execution_count": 8,
   "metadata": {
    "colab": {
     "base_uri": "https://localhost:8080/",
     "height": 84
    },
    "colab_type": "code",
    "id": "DSId7jF1Spln",
    "outputId": "aacb50c9-39e0-4492-9508-9b42f2c6c8b3"
   },
   "outputs": [
    {
     "name": "stdout",
     "output_type": "stream",
     "text": [
      "p =  0.9660579855118626\n",
      "r =  0.2980810109852932\n",
      "mean =  8.483984976567434\n",
      "var =  249.95525765073754\n"
     ]
    }
   ],
   "source": [
    "truncated_data_b = data2[(data2.metrics < 101) & (data2.variant == 'B')].metrics\n",
    "mean = np.mean(truncated_data_b)\n",
    "var = np.var(truncated_data_b)\n",
    "\n",
    "p = 1 - mean / var\n",
    "r = mean * (1 - p) / p\n",
    "print(\"p = \", p)\n",
    "print(\"r = \", r)\n",
    "print(\"mean = \", mean)\n",
    "print(\"var = \", var)"
   ]
  },
  {
   "cell_type": "markdown",
   "metadata": {
    "colab_type": "text",
    "id": "3KStmBK6OEI9"
   },
   "source": [
    "Будем использовать другие показатели -- Критерий Манна Уитни Вилкоксона."
   ]
  },
  {
   "cell_type": "code",
   "execution_count": 9,
   "metadata": {
    "colab": {
     "base_uri": "https://localhost:8080/",
     "height": 34
    },
    "colab_type": "code",
    "id": "TCPIH3jcWr7t",
    "outputId": "a52709d1-e505-4995-f077-21f5ad67465b"
   },
   "outputs": [
    {
     "name": "stdout",
     "output_type": "stream",
     "text": [
      "MannwhitneyuResult(statistic=4195358346.0, pvalue=1.365559131227319e-05)\n"
     ]
    }
   ],
   "source": [
    "print(mannwhitneyu(data_a, data_b, alternative='less'))"
   ]
  },
  {
   "cell_type": "markdown",
   "metadata": {
    "colab_type": "text",
    "id": "gJSC2jVUZ9vF"
   },
   "source": [
    "Вывод: U-тест даёт pvalue < 0.01 для гипотезы, что метрика на A меньше, чем метрика на B, когда выбирается 2 случайных сэмпла."
   ]
  },
  {
   "cell_type": "markdown",
   "metadata": {
    "colab_type": "text",
    "id": "hybb_YY863KK"
   },
   "source": [
    "Попробуем также непараметрический bootstrap"
   ]
  },
  {
   "cell_type": "code",
   "execution_count": 10,
   "metadata": {
    "colab": {
     "base_uri": "https://localhost:8080/",
     "height": 441
    },
    "colab_type": "code",
    "id": "V4syjOip61ts",
    "outputId": "216c770a-f2ac-4a57-dd49-0ee3218f744e"
   },
   "outputs": [
    {
     "data": {
      "image/png": "[encoded data removed]",
      "text/plain": [
       "<Figure size 1080x432 with 1 Axes>"
      ]
     },
     "metadata": {
      "tags": []
     },
     "output_type": "display_data"
    }
   ],
   "source": [
    "def bootstrap(data_a, data_b, bootstrap_size, n):\n",
    "    bs = []\n",
    "    for i in range(n):\n",
    "        bs_a = np.random.choice(data_a, size=bootstrap_size, replace=True)\n",
    "        bs_b = np.random.choice(data_b, size=bootstrap_size, replace=True)\n",
    "        bs.append(mannwhitneyu(bs_a, bs_b, alternative='less')[1])\n",
    "  \n",
    "    return bs\n",
    "\n",
    "bs = bootstrap(truncated_data_a, truncated_data_b, 30000, 1000)\n",
    "\n",
    "fig, axes = plt.subplots(nrows=1, ncols=1, figsize=(15, 6))\n",
    "\n",
    "axes.hist(bs, bins = 20)\n",
    "axes.title.set_text('bootstrap p value of mannwhitney')\n",
    "axes.vlines(np.percentile(bs, [5, 95]), ymin=0, ymax=70, linestyles='--', color='r')\n",
    "axes.vlines(mannwhitneyu(data_a, data_b, alternative='less')[1], ymin=0, ymax=70, linestyles='--', color='black')\n",
    "fig.tight_layout()\n",
    "plt.show()"
   ]
  },
  {
   "cell_type": "code",
   "execution_count": 11,
   "metadata": {
    "colab": {
     "base_uri": "https://localhost:8080/",
     "height": 34
    },
    "colab_type": "code",
    "id": "8oW-XdQVA_GH",
    "outputId": "75389f8d-61d4-41a7-c691-4e7757535741"
   },
   "outputs": [
    {
     "data": {
      "text/plain": [
       "array([2.06656052e-05, 1.81628314e-01])"
      ]
     },
     "execution_count": 11,
     "metadata": {
      "tags": []
     },
     "output_type": "execute_result"
    }
   ],
   "source": [
    "np.percentile(bs, [5, 95])"
   ]
  },
  {
   "cell_type": "markdown",
   "metadata": {
    "colab_type": "text",
    "id": "090esXk1Ae16"
   },
   "source": [
    "Доверительный интервал $\\pm$0.05 для p-value оказался [0, 0.248]. Гипотезу в пользу выборки A можно принимать."
   ]
  },
  {
   "cell_type": "markdown",
   "metadata": {
    "colab_type": "text",
    "id": "ATbQoCH7A03v"
   },
   "source": [
    "**Задание 3**\n",
    "\n",
    "Дано две выборки по А/Б тесту.\n",
    "\n",
    "Две выборки несбалансированные - кол-во пользователей в каждой группе разные.\n",
    "\n",
    "Метрика, которую меряем в эксперименте (и которую используем для определения группы, которая лучше себя показала) - кол-во просмотренных страниц на пользователя \n",
    "\n",
    "Как вы будете принимать решение, какая группа лучше А или Б, и какие статистические методы (критерии) вы будете использовать, какие преобразования к данным применять? P.S. Вам может помочь лекция Виталия Черемисинова, где он рассказывал про А/Б тесты\n",
    "\n",
    "[Ссылка на данные](https://drive.google.com/file/d/1_g7Dw7-8QzTS47D6GNKMb0FzqMAWBDba/view?usp=sharing)\n",
    "\n",
    "Описание данных: \n",
    "\n",
    "* variant -- вариация в А/Б тесте (либо группа А -- например, сайт без изменений. Либо группа Б -- сайт с изменениями)\n",
    "* metrics -- значение определенной метрики в сервисе для пользователя (например, количество кликов). \n",
    "\n",
    "\n",
    "*Вместе с ответом на задание приложить код*"
   ]
  },
  {
   "cell_type": "code",
   "execution_count": 0,
   "metadata": {
    "colab": {},
    "colab_type": "code",
    "id": "QjBYsMWJA03w"
   },
   "outputs": [],
   "source": [
    "data3 = pd.read_csv(\"hw2_test_1_3.csv\", sep=';', index_col = 'Unnamed: 0')\n",
    "data_a = data3[data3.variant == 'A'].metrics\n",
    "data_b = data3[data3.variant == 'D'].metrics"
   ]
  },
  {
   "cell_type": "code",
   "execution_count": 13,
   "metadata": {
    "colab": {
     "base_uri": "https://localhost:8080/",
     "height": 441
    },
    "colab_type": "code",
    "id": "nbGnEV2plyGX",
    "outputId": "f79984a9-7c5b-4b01-f849-c398eaa23321"
   },
   "outputs": [
    {
     "data": {
      "image/png": "[encoded data removed]",
      "text/plain": [
       "<Figure size 1080x432 with 2 Axes>"
      ]
     },
     "metadata": {
      "tags": []
     },
     "output_type": "display_data"
    }
   ],
   "source": [
    "fig, axes = plt.subplots(nrows=1, ncols=2, figsize=(15, 6))\n",
    "\n",
    "axes[0].hist(data_a, bins = 20, range=[0, 200])\n",
    "axes[0].title.set_text('A data')\n",
    "\n",
    "axes[1].hist(data_b, bins = 20, range=[0, 200])\n",
    "axes[1].title.set_text('B data')\n",
    "\n",
    "fig.tight_layout()\n",
    "plt.show()"
   ]
  },
  {
   "cell_type": "markdown",
   "metadata": {
    "colab_type": "text",
    "id": "7A2kpi6YWlzi"
   },
   "source": [
    "Рассмотрим перцентили данных:"
   ]
  },
  {
   "cell_type": "code",
   "execution_count": 14,
   "metadata": {
    "colab": {
     "base_uri": "https://localhost:8080/",
     "height": 50
    },
    "colab_type": "code",
    "id": "UzMf0bWNUNOn",
    "outputId": "f67167b7-2b52-44c1-ec7e-aab6fa36e0be"
   },
   "outputs": [
    {
     "name": "stdout",
     "output_type": "stream",
     "text": [
      "A precentile:  [  1.   1.   1.   2.  52.  86. 998.]\n",
      "B precentile:  [  1.   1.   1.   2.  52.  81. 406.]\n"
     ]
    }
   ],
   "source": [
    "print('A precentile: ', np.percentile(data_a, [0, 2, 5, 50, 95, 98, 100]))\n",
    "print('B precentile: ', np.percentile(data_b, [0, 2, 5, 50, 95, 98, 100]))"
   ]
  },
  {
   "cell_type": "markdown",
   "metadata": {
    "colab_type": "text",
    "id": "MhlXPK0mWkcY"
   },
   "source": [
    "Видим, что явно имеются выбросы. Отчистим данные, выкинув всё, лежащее за 98-ым перцентилем. Это допустимо, так как 500 кликов одного пользователя это не то же самое, что, например, покупка на 500 тыс. рублей от одного пользователя. Во втором случае выбросы надо учитывать так как они могут составлять существенную часть прибыли.\n"
   ]
  },
  {
   "cell_type": "code",
   "execution_count": 15,
   "metadata": {
    "colab": {
     "base_uri": "https://localhost:8080/",
     "height": 50
    },
    "colab_type": "code",
    "id": "eM6ZGV_cWjZ8",
    "outputId": "72a53d7e-45c6-46f0-850a-7b5d8d905994"
   },
   "outputs": [
    {
     "name": "stdout",
     "output_type": "stream",
     "text": [
      "A-test mean: 7.709751265683469\n",
      "B-test mean: 7.720288512440445\n"
     ]
    }
   ],
   "source": [
    "cleared_a = data3[(data3.variant == 'A') & (data3.metrics <= 86)].metrics\n",
    "cleared_b = data3[(data3.variant == 'D') & (data3.metrics <= 81)].metrics\n",
    "\n",
    "print(\"A-test mean:\", cleared_a.mean())\n",
    "print(\"B-test mean:\", cleared_b.mean())"
   ]
  },
  {
   "cell_type": "markdown",
   "metadata": {
    "colab_type": "text",
    "id": "uP8d39pdjUGb"
   },
   "source": [
    "Ради интереса посмотрим на распределение логарифма величин:"
   ]
  },
  {
   "cell_type": "code",
   "execution_count": 16,
   "metadata": {
    "colab": {
     "base_uri": "https://localhost:8080/",
     "height": 441
    },
    "colab_type": "code",
    "id": "MCUCkg9vmapg",
    "outputId": "f68401b8-0f90-4adc-db32-69f0d78e6019"
   },
   "outputs": [
    {
     "data": {
      "image/png": "[encoded data removed]",
      "text/plain": [
       "<Figure size 1080x432 with 2 Axes>"
      ]
     },
     "metadata": {
      "tags": []
     },
     "output_type": "display_data"
    }
   ],
   "source": [
    "fig, axes = plt.subplots(nrows=1, ncols=2, figsize=(15, 6))\n",
    "\n",
    "axes[0].hist(np.log(cleared_a))\n",
    "axes[0].title.set_text('A log data')\n",
    "\n",
    "axes[1].hist(np.log(cleared_b))\n",
    "axes[1].title.set_text('B log data')\n",
    "\n",
    "fig.tight_layout()\n",
    "plt.show()"
   ]
  },
  {
   "cell_type": "markdown",
   "metadata": {
    "colab_type": "text",
    "id": "OzUY5LlkG8Tn"
   },
   "source": [
    "Значение pvalue для теста Манна Уитни:"
   ]
  },
  {
   "cell_type": "code",
   "execution_count": 17,
   "metadata": {
    "colab": {
     "base_uri": "https://localhost:8080/",
     "height": 34
    },
    "colab_type": "code",
    "id": "zTv6T6K18M6Q",
    "outputId": "fd22a5e8-8056-483e-b8cf-86031e0abaa1"
   },
   "outputs": [
    {
     "name": "stdout",
     "output_type": "stream",
     "text": [
      "MannwhitneyuResult(statistic=682238778.5, pvalue=0.09791281756066267)\n"
     ]
    }
   ],
   "source": [
    "print(mannwhitneyu(cleared_a, cleared_b, alternative='less'))"
   ]
  },
  {
   "cell_type": "code",
   "execution_count": 18,
   "metadata": {
    "colab": {
     "base_uri": "https://localhost:8080/",
     "height": 441
    },
    "colab_type": "code",
    "id": "6X0eqTceGEul",
    "outputId": "8a84d6aa-fbd4-4446-b47f-479c52e68f73"
   },
   "outputs": [
    {
     "data": {
      "image/png": "[encoded data removed]",
      "text/plain": [
       "<Figure size 1080x432 with 1 Axes>"
      ]
     },
     "metadata": {
      "tags": []
     },
     "output_type": "display_data"
    }
   ],
   "source": [
    "def bootstrap(data_a, data_b, bootstrap_size, n):\n",
    "    bs = []\n",
    "    for i in range(n):\n",
    "        bs_a = np.random.choice(data_a, size=bootstrap_size, replace=True)\n",
    "        bs_b = np.random.choice(data_b, size=bootstrap_size, replace=True)\n",
    "        bs.append(mannwhitneyu(bs_a, bs_b, alternative='less')[1])\n",
    "  \n",
    "    return bs\n",
    "\n",
    "bs = bootstrap(cleared_a, cleared_b, 30000, 1000)\n",
    "\n",
    "fig, axes = plt.subplots(nrows=1, ncols=1, figsize=(15, 6))\n",
    "\n",
    "axes.hist(bs, bins = 20)\n",
    "axes.title.set_text('bootstrap p value of mannwhitney')\n",
    "axes.vlines(np.percentile(bs, [5, 95]), ymin=0, ymax=70, linestyles='--', color='r')\n",
    "\n",
    "fig.tight_layout()\n",
    "plt.show()"
   ]
  },
  {
   "cell_type": "markdown",
   "metadata": {
    "colab_type": "text",
    "id": "RK1p2XHOG7B7"
   },
   "source": [
    "В данном случае pvalue ( = 0.0979) находится выше значения высокой статистической значимости (например, 0.01 или 0.05). Поэтому мы не можем заключить наличие различий в двух выборка с достаточной достоверностью. "
   ]
  },
  {
   "cell_type": "markdown",
   "metadata": {
    "colab_type": "text",
    "id": "7adwPKsdA03z"
   },
   "source": [
    "**Задание 4**\n",
    "\n",
    "Есть данные с большой дисперсии у метрики (диспресию метрики можно посчитать для каждой группы). Для их дальнейшего анализа дисперсию необходимо сократить. Как определить, что дисперсия действительно большая? Если она большая, как вы будете ее чистить? Ответ аргументировать и описать.  P.S. Вам может помочь лекция Виталия Черемисинова, где он рассказывал про А/Б тесты\n",
    "\n",
    "Описание данных: \n",
    "\n",
    "* metrics -- значение определенной метрики в сервисе для пользователя (например, количество кликов). \n",
    "\n",
    "[Ссылка на данные](https://drive.google.com/file/d/1fc8BGSjDiwbZW6rcr3mMSwAjU2T_BpGW/view?usp=sharing)\n",
    "\n",
    "*Вместе с ответом на задание приложить код*"
   ]
  },
  {
   "cell_type": "code",
   "execution_count": 0,
   "metadata": {
    "colab": {},
    "colab_type": "code",
    "id": "97CeO5nqA030"
   },
   "outputs": [],
   "source": [
    "data4 = pd.read_csv(\"test_1_1.csv\", sep=';', index_col = 'Unnamed: 0')"
   ]
  },
  {
   "cell_type": "code",
   "execution_count": 20,
   "metadata": {
    "colab": {
     "base_uri": "https://localhost:8080/",
     "height": 266
    },
    "colab_type": "code",
    "id": "jGLsWtSP0gdX",
    "outputId": "f8f33044-3afd-4873-e4c7-5154d8f8776a"
   },
   "outputs": [
    {
     "data": {
      "image/png": "[encoded data removed]",
      "text/plain": [
       "<Figure size 432x288 with 1 Axes>"
      ]
     },
     "metadata": {
      "tags": []
     },
     "output_type": "display_data"
    }
   ],
   "source": [
    "plt.hist(data4.metrics, bins= 20, range=[0, 200])\n",
    "plt.show()"
   ]
  },
  {
   "cell_type": "code",
   "execution_count": 21,
   "metadata": {
    "colab": {
     "base_uri": "https://localhost:8080/",
     "height": 686
    },
    "colab_type": "code",
    "id": "dj8dDzYtqD0r",
    "outputId": "66e2af48-9ee4-4108-d837-99f4d16049a2"
   },
   "outputs": [
    {
     "data": {
      "image/png": "[encoded data removed]",
      "text/plain": [
       "<Figure size 1440x864 with 1 Axes>"
      ]
     },
     "metadata": {
      "tags": []
     },
     "output_type": "display_data"
    }
   ],
   "source": [
    "fig, axes = plt.subplots(nrows=1, ncols=1, figsize=(20, 12))\n",
    "axes.boxplot(data4.metrics, meanline=True)\n",
    "axes.title.set_text(\"Метрика\")\n",
    "plt.show()"
   ]
  },
  {
   "cell_type": "code",
   "execution_count": 22,
   "metadata": {
    "colab": {
     "base_uri": "https://localhost:8080/",
     "height": 50
    },
    "colab_type": "code",
    "id": "0ArAX4a00qiI",
    "outputId": "a4fe1db9-ef22-4468-8b8f-549833154b9e"
   },
   "outputs": [
    {
     "name": "stdout",
     "output_type": "stream",
     "text": [
      "Дисперсия:  511.99656406368365\n",
      "Стандартное отклонение:  22.627341073658734\n"
     ]
    }
   ],
   "source": [
    "print('Дисперсия: ', np.var(data4.metrics))\n",
    "print('Стандартное отклонение: ', np.std(data4.metrics))"
   ]
  },
  {
   "cell_type": "code",
   "execution_count": 23,
   "metadata": {
    "colab": {
     "base_uri": "https://localhost:8080/",
     "height": 34
    },
    "colab_type": "code",
    "id": "-Sw5_XTq1qcN",
    "outputId": "b0c35517-90a0-49e5-826e-0c3977122f06"
   },
   "outputs": [
    {
     "name": "stdout",
     "output_type": "stream",
     "text": [
      "Перцентили:  [  1.   2.  52.  60.  85. 998.]\n"
     ]
    }
   ],
   "source": [
    "print(\"Перцентили: \", np.percentile(data4.metrics, [0, 50, 95, 96, 98, 100]))"
   ]
  },
  {
   "cell_type": "markdown",
   "metadata": {
    "colab_type": "text",
    "id": "fu0OEF-U1U54"
   },
   "source": [
    "На Box plot'е видно, что дисперсия большая (точнее видно что у распределения очень длинный хвост) -- при обычной дисперсии не должно быть такого количества точек вне 95го перцентиля. \n",
    "\n",
    "\n",
    "Предлагаю 2 способа уменьшить дисперсию:\n",
    "\n",
    "\n",
    "1.   Удалить выбросы.\n",
    "2.   Сделать преобразование выборки, например, взять логарифм (это трансформация Бокса-Кокса в данном случае)\n",
    "\n"
   ]
  },
  {
   "cell_type": "code",
   "execution_count": 24,
   "metadata": {
    "colab": {
     "base_uri": "https://localhost:8080/",
     "height": 34
    },
    "colab_type": "code",
    "id": "3wFlYtV50zMm",
    "outputId": "e6be041c-d1f3-47da-bba3-e8f94b19e382"
   },
   "outputs": [
    {
     "name": "stdout",
     "output_type": "stream",
     "text": [
      "Дисперсия без выбросов:  116.72949712191138\n"
     ]
    }
   ],
   "source": [
    "cleared = data4[data4.metrics <= 60].metrics\n",
    "print(\"Дисперсия без выбросов: \", np.var(cleared))"
   ]
  },
  {
   "cell_type": "code",
   "execution_count": 25,
   "metadata": {
    "colab": {
     "base_uri": "https://localhost:8080/",
     "height": 34
    },
    "colab_type": "code",
    "id": "Dj2tEDF52TR8",
    "outputId": "8d7cae29-4994-4098-ea19-b0e20b1e73b0"
   },
   "outputs": [
    {
     "name": "stdout",
     "output_type": "stream",
     "text": [
      "Дисперсия без выбросов c логарифмированием:  1.3979418237964487\n"
     ]
    }
   ],
   "source": [
    "log_cleared = np.log(cleared)\n",
    "print(\"Дисперсия без выбросов c логарифмированием: \", np.var(log_cleared))"
   ]
  },
  {
   "cell_type": "markdown",
   "metadata": {
    "colab_type": "text",
    "id": "qxCDmtGxw-90"
   },
   "source": [
    "Ещё один способ сократить дисперсию -- разбиение выборки по децилям:\n"
   ]
  },
  {
   "cell_type": "code",
   "execution_count": 26,
   "metadata": {
    "colab": {
     "base_uri": "https://localhost:8080/",
     "height": 1000
    },
    "colab_type": "code",
    "id": "bHs9Pnnyw-EI",
    "outputId": "ceb54fe1-3a28-4639-b655-eb75082634e2"
   },
   "outputs": [
    {
     "data": {
      "image/png": "[encoded data removed]",
      "text/plain": [
       "<Figure size 1080x1440 with 5 Axes>"
      ]
     },
     "metadata": {
      "tags": []
     },
     "output_type": "display_data"
    }
   ],
   "source": [
    "decile = [0, 1, 7, 60, 100, 450]\n",
    "fig, axes = plt.subplots(nrows=len(decile)-1, ncols=1, figsize=(15, 20))\n",
    "\n",
    "for i in range(len(decile)-1):\n",
    "    curr_data = data4[(data4.metrics > decile[i]) & (data4.metrics <= decile[i + 1])].metrics\n",
    "    axes[i].hist(curr_data, bins = 10)\n",
    "    axes[i].title.set_text('Part ' + str(i) + ' with variance = ' + str(np.var(curr_data)))\n",
    "\n",
    "\n",
    "fig.tight_layout()\n",
    "plt.show()"
   ]
  },
  {
   "cell_type": "markdown",
   "metadata": {
    "colab_type": "text",
    "id": "mcRZzR04A033"
   },
   "source": [
    "**Задание 5**\n",
    "\n",
    "Есть эксперимент с поисковыми подсказками. Вы хотим узнать, как изменился CTR в каждой группе эксперимента.\n",
    "\n",
    "**Данные**\n",
    "\n",
    "- id - уникальный идентификатор пользователя\n",
    "- action -\n",
    "- view - кол-во просмотров на одну сессию\n",
    "- variant - вариант a/b теста, где 0 - это версия \"A\", 1 -  версия \"B\".\n",
    "\n",
    "**Задача**\n",
    "\n",
    "- сформировать метрику для оценки эксперимента\n",
    "- подобрать критерий под особенности данных\n",
    "- сделать вывод о значимости эффекта\n",
    "\n",
    "**Данные** \n",
    "\n",
    "[Ссылка на данные](https://www.dropbox.com/s/fdki267uilkfq7l/task5.csv)"
   ]
  },
  {
   "cell_type": "code",
   "execution_count": 0,
   "metadata": {
    "colab": {},
    "colab_type": "code",
    "id": "ggOgBY9iA034"
   },
   "outputs": [],
   "source": [
    "data5 = pd.read_csv(\"task5.csv\", sep=',')\n",
    "data_a = data5[data5.variant == 'A']\n",
    "data_b = data5[data5.variant == 'B']\n",
    "data_a_view = data5[data5.variant == 'A'].view\n",
    "data_b_view = data5[data5.variant == 'B'].view\n",
    "data_a_action = data5[data5.variant == 'A'].action\n",
    "data_b_action = data5[data5.variant == 'B'].action"
   ]
  },
  {
   "cell_type": "markdown",
   "metadata": {
    "colab_type": "text",
    "id": "ww99lUqTyASH"
   },
   "source": [
    "Проверим, что нет пользователей, находящихся одновременно в A и B версиях:"
   ]
  },
  {
   "cell_type": "code",
   "execution_count": 28,
   "metadata": {
    "colab": {
     "base_uri": "https://localhost:8080/",
     "height": 218
    },
    "colab_type": "code",
    "id": "IUpXl-6bwuai",
    "outputId": "7dafe20e-b05d-4ae5-a2ef-fa3ca481ccbd"
   },
   "outputs": [
    {
     "data": {
      "text/plain": [
       "<bound method Series.unique of 0         88258\n",
       "1        109938\n",
       "2        117644\n",
       "3        374080\n",
       "4        662082\n",
       "         ...   \n",
       "8186    7706713\n",
       "8187    7875223\n",
       "8188    4617329\n",
       "8189    5394863\n",
       "8190    7558165\n",
       "Name: id, Length: 8191, dtype: int64>"
      ]
     },
     "execution_count": 28,
     "metadata": {
      "tags": []
     },
     "output_type": "execute_result"
    }
   ],
   "source": [
    "data5.id.unique"
   ]
  },
  {
   "cell_type": "code",
   "execution_count": 29,
   "metadata": {
    "colab": {
     "base_uri": "https://localhost:8080/",
     "height": 218
    },
    "colab_type": "code",
    "id": "8wE1RIwryITl",
    "outputId": "d63e8cdb-df37-4ece-f5ee-f52ed6f187f1"
   },
   "outputs": [
    {
     "data": {
      "text/plain": [
       "0         88258\n",
       "1        109938\n",
       "2        117644\n",
       "3        374080\n",
       "4        662082\n",
       "         ...   \n",
       "8186    7706713\n",
       "8187    7875223\n",
       "8188    4617329\n",
       "8189    5394863\n",
       "8190    7558165\n",
       "Name: id, Length: 8191, dtype: int64"
      ]
     },
     "execution_count": 29,
     "metadata": {
      "tags": []
     },
     "output_type": "execute_result"
    }
   ],
   "source": [
    "data5.id"
   ]
  },
  {
   "cell_type": "markdown",
   "metadata": {
    "colab_type": "text",
    "id": "rBd_HSL0yLYs"
   },
   "source": [
    "Посмотрим на данные:"
   ]
  },
  {
   "cell_type": "code",
   "execution_count": 30,
   "metadata": {
    "colab": {
     "base_uri": "https://localhost:8080/",
     "height": 441
    },
    "colab_type": "code",
    "id": "vX6d9jnqvQz2",
    "outputId": "09b90348-b8ed-40ae-c2b3-d513079cee93"
   },
   "outputs": [
    {
     "data": {
      "image/png": "[encoded data removed]",
      "text/plain": [
       "<Figure size 1080x432 with 2 Axes>"
      ]
     },
     "metadata": {
      "tags": []
     },
     "output_type": "display_data"
    }
   ],
   "source": [
    "fig, axes = plt.subplots(nrows=1, ncols=2, figsize=(15, 6))\n",
    "\n",
    "axes[0].hist(data_a_view, bins = 20)\n",
    "axes[0].title.set_text('data A view')\n",
    "\n",
    "axes[1].hist(data_b_view, bins = 20)\n",
    "axes[1].title.set_text('data B view')\n",
    "\n",
    "fig.tight_layout()\n",
    "plt.show()"
   ]
  },
  {
   "cell_type": "code",
   "execution_count": 31,
   "metadata": {
    "colab": {
     "base_uri": "https://localhost:8080/",
     "height": 441
    },
    "colab_type": "code",
    "id": "8zx-FXfTv42Z",
    "outputId": "8cc12e09-a849-490b-b36b-82529888e1ba"
   },
   "outputs": [
    {
     "data": {
      "image/png": "[encoded data removed]",
      "text/plain": [
       "<Figure size 1080x432 with 2 Axes>"
      ]
     },
     "metadata": {
      "tags": []
     },
     "output_type": "display_data"
    }
   ],
   "source": [
    "fig, axes = plt.subplots(nrows=1, ncols=2, figsize=(15, 6))\n",
    "\n",
    "axes[0].hist(data_a_action, bins = 20)\n",
    "axes[0].title.set_text('data A actions')\n",
    "\n",
    "axes[1].hist(data_b_action, bins = 20)\n",
    "axes[1].title.set_text('data B actions')\n",
    "\n",
    "fig.tight_layout()\n",
    "plt.show()"
   ]
  },
  {
   "cell_type": "code",
   "execution_count": 32,
   "metadata": {
    "colab": {
     "base_uri": "https://localhost:8080/",
     "height": 441
    },
    "colab_type": "code",
    "id": "0xeTGiwRwmKU",
    "outputId": "ce01fb89-0903-41a3-832c-4cf8ea967533"
   },
   "outputs": [
    {
     "data": {
      "image/png": "[encoded data removed]",
      "text/plain": [
       "<Figure size 1080x432 with 2 Axes>"
      ]
     },
     "metadata": {
      "tags": []
     },
     "output_type": "display_data"
    }
   ],
   "source": [
    "fig, axes = plt.subplots(nrows=1, ncols=2, figsize=(15, 6))\n",
    "\n",
    "axes[0].boxplot(data_a_action + np.random.normal(0, 0.2, data_a_action.shape[0]), meanline=True)\n",
    "axes[0].title.set_text('data A actions')\n",
    "\n",
    "axes[1].boxplot(data_b_action + np.random.normal(0, 0.2, data_b_action.shape[0]), meanline=True)\n",
    "axes[1].title.set_text('data B actions')\n",
    "\n",
    "fig.tight_layout()\n",
    "plt.show()"
   ]
  },
  {
   "cell_type": "markdown",
   "metadata": {
    "colab_type": "text",
    "id": "tnGw2l1H0sNp"
   },
   "source": [
    "К данным на последней картинке добавлено немного шума чтобы лучше видеть кол-во выбросов. \n",
    "\n",
    "Так как клики это вновь не деньги, то можно безболезненно отбросить часть данных выходящих за какой-то перцентиль."
   ]
  },
  {
   "cell_type": "code",
   "execution_count": 0,
   "metadata": {
    "colab": {},
    "colab_type": "code",
    "id": "RHEDFFFn4bmT"
   },
   "outputs": [],
   "source": [
    "a_action_cleared = data_a_action[data_a_action < np.percentile(data_a_action, [98][0])]\n",
    "b_action_cleared = data_b_action[data_b_action < np.percentile(data_b_action, [98][0])]\n",
    "\n",
    "data_a_cleared = data_a[data_a.action < np.percentile(data5.action, [98][0])]"
   ]
  },
  {
   "cell_type": "code",
   "execution_count": 34,
   "metadata": {
    "colab": {
     "base_uri": "https://localhost:8080/",
     "height": 265
    },
    "colab_type": "code",
    "id": "6NTnkCE2K2nU",
    "outputId": "87f31017-a719-4396-d2e2-304633600618"
   },
   "outputs": [
    {
     "data": {
      "image/png": "[encoded data removed]",
      "text/plain": [
       "<Figure size 432x288 with 1 Axes>"
      ]
     },
     "metadata": {
      "tags": []
     },
     "output_type": "display_data"
    }
   ],
   "source": [
    "plt.hist(a_action_cleared)\n",
    "plt.show()"
   ]
  },
  {
   "cell_type": "markdown",
   "metadata": {
    "colab_type": "text",
    "id": "BM0k5hcB_c6f"
   },
   "source": [
    "Введём метрику ctr = кол-во кликов пользователя / кол-во просмотров."
   ]
  },
  {
   "cell_type": "code",
   "execution_count": 0,
   "metadata": {
    "colab": {},
    "colab_type": "code",
    "id": "_4fO7ZrnK2sm"
   },
   "outputs": [],
   "source": [
    "data5['ctr'] = data5['action'] / (data5['view'] + 1e-10)\n",
    "a_ctr = data5[data5.variant == 'A'].ctr\n",
    "b_ctr = data5[data5.variant == 'B'].ctr"
   ]
  },
  {
   "cell_type": "code",
   "execution_count": 36,
   "metadata": {
    "colab": {
     "base_uri": "https://localhost:8080/",
     "height": 441
    },
    "colab_type": "code",
    "id": "upWvSx5T8I7D",
    "outputId": "16553e4b-b686-48d7-e1b4-c02d76e00408"
   },
   "outputs": [
    {
     "data": {
      "image/png": "[encoded data removed]",
      "text/plain": [
       "<Figure size 1080x432 with 2 Axes>"
      ]
     },
     "metadata": {
      "tags": []
     },
     "output_type": "display_data"
    }
   ],
   "source": [
    "fig, axes = plt.subplots(nrows=1, ncols=2, figsize=(15, 6))\n",
    "\n",
    "axes[0].hist(a_ctr, bins = 30)\n",
    "axes[0].title.set_text('A CTR')\n",
    "\n",
    "axes[1].hist(b_ctr, bins = 30)\n",
    "axes[1].title.set_text('B CTR')\n",
    "\n",
    "fig.tight_layout()\n",
    "plt.show()"
   ]
  },
  {
   "cell_type": "markdown",
   "metadata": {
    "colab_type": "text",
    "id": "JdYTGr3HDxms"
   },
   "source": [
    "Распределения не похожи ни на одно стандартное. "
   ]
  },
  {
   "cell_type": "code",
   "execution_count": 37,
   "metadata": {
    "colab": {
     "base_uri": "https://localhost:8080/",
     "height": 50
    },
    "colab_type": "code",
    "id": "EEhpQugxAlvh",
    "outputId": "0bbbfbcb-dbe2-4919-af7e-67230eee2e42"
   },
   "outputs": [
    {
     "name": "stdout",
     "output_type": "stream",
     "text": [
      "A ctr mean: 0.7615838991011978\n",
      "B ctr mean: 0.7564976441165369\n"
     ]
    }
   ],
   "source": [
    "print('A ctr mean:', np.mean(a_ctr))\n",
    "print('B ctr mean:', np.mean(b_ctr))"
   ]
  },
  {
   "cell_type": "code",
   "execution_count": 38,
   "metadata": {
    "colab": {
     "base_uri": "https://localhost:8080/",
     "height": 50
    },
    "colab_type": "code",
    "id": "bqh3D5ds8KkP",
    "outputId": "098b232b-afd6-40a6-997a-52fde333ef18"
   },
   "outputs": [
    {
     "name": "stdout",
     "output_type": "stream",
     "text": [
      "A ctr mean without all-clicks users: 0.7615838991011978\n",
      "B ctr mean without all-clicks users: 0.7564976441165369\n"
     ]
    }
   ],
   "source": [
    "print('A ctr mean without all-clicks users:', np.mean(a_ctr[a_ctr < 1.0]))\n",
    "print('B ctr mean without all-clicks users:', np.mean(b_ctr[b_ctr < 1.0]))"
   ]
  },
  {
   "cell_type": "markdown",
   "metadata": {
    "colab_type": "text",
    "id": "jNENlZ5O_lDd"
   },
   "source": [
    "Видим, что простой взгляд на среднее не даёт оценки.\n",
    "\n",
    "Посмотрим также на общий ctr = все клики / все просмотры:"
   ]
  },
  {
   "cell_type": "code",
   "execution_count": 39,
   "metadata": {
    "colab": {
     "base_uri": "https://localhost:8080/",
     "height": 50
    },
    "colab_type": "code",
    "id": "WZblwLLB81Hy",
    "outputId": "651be558-3b34-42e8-94f1-83e86dfea67a"
   },
   "outputs": [
    {
     "name": "stdout",
     "output_type": "stream",
     "text": [
      "Overall ctr A: 0.6092203122691228\n",
      "Overall ctr B: 0.6061197506768243\n"
     ]
    }
   ],
   "source": [
    "print(\"Overall ctr A:\", np.sum(data_a_action) / np.sum(data_a_view))\n",
    "print(\"Overall ctr B:\", np.sum(data_b_action) / np.sum(data_b_view))"
   ]
  },
  {
   "cell_type": "markdown",
   "metadata": {
    "colab_type": "text",
    "id": "uwl3EahHARge"
   },
   "source": [
    "Такое отличие общего ctr и среднего по пользователям, говорит о том, что пользователи с высоким ctr также имели высокое число просмотров. "
   ]
  },
  {
   "cell_type": "code",
   "execution_count": 40,
   "metadata": {
    "colab": {
     "base_uri": "https://localhost:8080/",
     "height": 50
    },
    "colab_type": "code",
    "id": "EfUUpxrU9XLg",
    "outputId": "f85f7494-ad73-48a9-acbe-bb7654349b1f"
   },
   "outputs": [
    {
     "name": "stdout",
     "output_type": "stream",
     "text": [
      "Correlation of action and view in group A: 0.7495977683450313\n",
      "Correlation of action and view in group B: 0.7407513036884875\n"
     ]
    }
   ],
   "source": [
    "print(\"Correlation of action and view in group A:\", np.corrcoef(data_a_action, data_a_view)[1][0])\n",
    "print(\"Correlation of action and view in group B:\", np.corrcoef(data_b_action, data_b_view)[1][0])"
   ]
  },
  {
   "cell_type": "markdown",
   "metadata": {
    "colab_type": "text",
    "id": "zCTr2uh9B-Wz"
   },
   "source": [
    "Видим, что коэффициент корреляции действительно высокий. Более того, заметно существунное отличие -- в группе A корреляция action и view выше на 0.09."
   ]
  },
  {
   "cell_type": "code",
   "execution_count": 0,
   "metadata": {
    "colab": {},
    "colab_type": "code",
    "id": "Q0nnbcVJBOAZ"
   },
   "outputs": [],
   "source": [
    "def get_cumulative(data):\n",
    "    cumulative_mean_a = []\n",
    "    cumulative_total_a = []\n",
    "\n",
    "    cumulative_mean_b = []\n",
    "    cumulative_total_b = []\n",
    "\n",
    "    data_a = data[data.variant == 'A']\n",
    "    data_b = data[data.variant == 'B']\n",
    "\n",
    "    for i in range(1, data_a.shape[0] + 1):\n",
    "        current_data_a = data_a[0:i]\n",
    "        cumulative_mean_a.append(np.mean(current_data_a.ctr))\n",
    "        cumulative_total_a.append(np.sum(current_data_a.action) / np.sum(current_data_a.view))\n",
    "\n",
    "    for i in range(1, data_b.shape[0] + 1):\n",
    "        current_data_b = data_b[0:i]\n",
    "        cumulative_mean_b.append(np.mean(current_data_b.ctr))\n",
    "        cumulative_total_b.append(np.sum(current_data_b.action) / np.sum(current_data_b.view))\n",
    "\n",
    "    return cumulative_mean_a, cumulative_mean_b, cumulative_total_a, cumulative_total_b\n",
    "\n",
    "cumulative_mean_a, cumulative_mean_b, cumulative_total_a, cumulative_total_b = get_cumulative(data5)"
   ]
  },
  {
   "cell_type": "code",
   "execution_count": 42,
   "metadata": {
    "colab": {
     "base_uri": "https://localhost:8080/",
     "height": 441
    },
    "colab_type": "code",
    "id": "sOr4fZ9XHyFA",
    "outputId": "c68c1b25-d2a6-4063-e1bc-ff31f9ff61e1"
   },
   "outputs": [
    {
     "data": {
      "image/png": "[encoded data removed]",
      "text/plain": [
       "<Figure size 1080x432 with 2 Axes>"
      ]
     },
     "metadata": {
      "tags": []
     },
     "output_type": "display_data"
    }
   ],
   "source": [
    "fig, axes = plt.subplots(nrows=1, ncols=2, figsize=(15, 6))\n",
    "\n",
    "axes[0].plot(cumulative_mean_a)\n",
    "axes[0].axhline(y=cumulative_mean_b[-1], color='r', linestyle='--')\n",
    "axes[0].title.set_text('Cumulative CTR A')\n",
    "\n",
    "axes[1].plot(cumulative_mean_b)\n",
    "axes[1].axhline(y=cumulative_mean_b[-1], color='r', linestyle='--')\n",
    "axes[1].title.set_text('Cumulative CTR B')\n",
    "\n",
    "fig.tight_layout()\n",
    "plt.show()"
   ]
  },
  {
   "cell_type": "code",
   "execution_count": 43,
   "metadata": {
    "colab": {
     "base_uri": "https://localhost:8080/",
     "height": 441
    },
    "colab_type": "code",
    "id": "d0aYH7F9LaF6",
    "outputId": "f1a51ab9-269d-4116-ae50-c9252959d120"
   },
   "outputs": [
    {
     "data": {
      "image/png": "[encoded data removed]",
      "text/plain": [
       "<Figure size 1080x432 with 2 Axes>"
      ]
     },
     "metadata": {
      "tags": []
     },
     "output_type": "display_data"
    }
   ],
   "source": [
    "fig, axes = plt.subplots(nrows=1, ncols=2, figsize=(15, 6))\n",
    "\n",
    "axes[0].plot(cumulative_total_a)\n",
    "axes[0].axhline(y=cumulative_total_b[-1], color='r', linestyle='--')\n",
    "axes[0].title.set_text('Cumulative total CTR A')\n",
    "\n",
    "axes[1].plot(cumulative_total_b)\n",
    "axes[1].axhline(y=cumulative_total_b[-1], color='r', linestyle='--')\n",
    "axes[1].title.set_text('Cumulative total CTR B')\n",
    "\n",
    "fig.tight_layout()\n",
    "plt.show()"
   ]
  },
  {
   "cell_type": "markdown",
   "metadata": {
    "colab_type": "text",
    "id": "Di9C_eD2MxKQ"
   },
   "source": [
    "Красные линии - последние значения для варианта B (для сравнения графиков с разными шкалами)"
   ]
  },
  {
   "cell_type": "markdown",
   "metadata": {
    "colab_type": "text",
    "id": "ZpITvEtBLyJ8"
   },
   "source": [
    "Нам неизвестно отсортированы ли данные по времени; **если отсортированы, то вариант A доставляет ctr растущий со временем, в то время как вариант B тренда не имеет, поэтому стоит оставить вариант A.** "
   ]
  },
  {
   "cell_type": "markdown",
   "metadata": {
    "colab_type": "text",
    "id": "arKx-P5XNCMQ"
   },
   "source": [
    "Если даные не отсортированы по времени, то будет делать обычный bootstrap для ctr. "
   ]
  },
  {
   "cell_type": "code",
   "execution_count": 0,
   "metadata": {
    "colab": {},
    "colab_type": "code",
    "id": "9Ty59VhCFgb3"
   },
   "outputs": [],
   "source": [
    "def bootstrap(data_a, data_b, bootstrap_size, n):\n",
    "    bs = []\n",
    "    for i in range(n):\n",
    "        bs_a = np.random.choice(data_a, size=bootstrap_size, replace=True)\n",
    "        bs_b = np.random.choice(data_b, size=bootstrap_size, replace=True)\n",
    "        bs.append(mannwhitneyu(bs_a, bs_b, alternative='greater')[1])\n",
    "  \n",
    "    return bs\n",
    "\n",
    "n = 1500\n",
    "bootstrap_size = 3000\n",
    "\n",
    "bs = bootstrap(a_ctr, b_ctr, bootstrap_size, n)"
   ]
  },
  {
   "cell_type": "code",
   "execution_count": 45,
   "metadata": {
    "colab": {
     "base_uri": "https://localhost:8080/",
     "height": 441
    },
    "colab_type": "code",
    "id": "9NMSbcV4LD7M",
    "outputId": "1d0107ae-414c-4446-b56a-6e743d6f5a0f"
   },
   "outputs": [
    {
     "data": {
      "image/png": "[encoded data removed]",
      "text/plain": [
       "<Figure size 1080x432 with 1 Axes>"
      ]
     },
     "metadata": {
      "tags": []
     },
     "output_type": "display_data"
    }
   ],
   "source": [
    "fig, axes = plt.subplots(nrows=1, ncols=1, figsize=(15, 6))\n",
    "\n",
    "axes.hist(bs, bins = 20)\n",
    "axes.title.set_text('bootstrap p value of mannwhitney for ctr')\n",
    "axes.vlines(np.percentile(bs, [5, 95]), ymin=0, ymax=100, linestyles='--', color='r')\n",
    "axes.vlines(mannwhitneyu(a_ctr, b_ctr, alternative='greater')[1], ymin=0, ymax=100, linestyles='--', color='black')\n",
    "\n",
    "fig.tight_layout()\n",
    "plt.show()"
   ]
  },
  {
   "cell_type": "markdown",
   "metadata": {
    "colab_type": "text",
    "id": "bHfE1zncT_Jf"
   },
   "source": [
    "Подход с использованием Mann-Whitney не позволяет отвергнуть гипотезу о том, что средний ctr в выборках отличается. Однако это не отменяет предыдущих выводов о случае, в котором выборка упорядочена по времени."
   ]
  },
  {
   "cell_type": "code",
   "execution_count": 0,
   "metadata": {
    "colab": {},
    "colab_type": "code",
    "id": "HhU98SBF79dD"
   },
   "outputs": [],
   "source": []
  },
  {
   "cell_type": "code",
   "execution_count": 0,
   "metadata": {
    "colab": {},
    "colab_type": "code",
    "id": "b0UYL-pDUAAu"
   },
   "outputs": [],
   "source": []
  }
 ],
 "metadata": {
  "colab": {
   "collapsed_sections": [],
   "name": "Copy of HW2_final.ipynb",
   "provenance": []
  },
  "kernelspec": {
   "display_name": "Python 3",
   "language": "python",
   "name": "python3"
  },
  "language_info": {
   "codemirror_mode": {
    "name": "ipython",
    "version": 3
   },
   "file_extension": ".py",
   "mimetype": "text/x-python",
   "name": "python",
   "nbconvert_exporter": "python",
   "pygments_lexer": "ipython3",
   "version": "3.8.5"
  }
 },
 "nbformat": 4,
 "nbformat_minor": 1
}
